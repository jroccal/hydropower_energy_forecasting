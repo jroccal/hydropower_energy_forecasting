{
  "metadata": {
    "kernelspec": {
      "language": "python",
      "display_name": "Python 3",
      "name": "python3"
    },
    "language_info": {
      "name": "python",
      "version": "3.10.12",
      "mimetype": "text/x-python",
      "codemirror_mode": {
        "name": "ipython",
        "version": 3
      },
      "pygments_lexer": "ipython3",
      "nbconvert_exporter": "python",
      "file_extension": ".py"
    },
    "kaggle": {
      "accelerator": "none",
      "dataSources": [
        {
          "sourceId": 10986794,
          "sourceType": "datasetVersion",
          "datasetId": 6838179
        }
      ],
      "dockerImageVersionId": 30918,
      "isInternetEnabled": true,
      "language": "python",
      "sourceType": "notebook",
      "isGpuEnabled": false
    },
    "colab": {
      "provenance": []
    }
  },
  "nbformat_minor": 0,
  "nbformat": 4,
  "cells": [
    {
      "cell_type": "markdown",
      "source": [
        "# Preprocessing Energy and Climate Data\n",
        "\n",
        "* This notebook uses a dataset available at the provided link https://zindi.africa/competitions/ibm-skillsbuild-hydropower-climate-optimisation-challenge/data\n",
        "\n",
        "* The dataset includes variables related to energy production, consumption, and climate. Each time series is recorded at 5-minute intervals.\n",
        "\n",
        "* The objective of this notebook is to aggregate the energy and climate data to a daily resolution."
      ],
      "metadata": {
        "id": "REq80oVx4pR1"
      }
    },
    {
      "cell_type": "code",
      "source": [
        "import warnings\n",
        "warnings.filterwarnings('ignore')\n",
        "\n",
        "import numpy as np\n",
        "import pandas as pd\n",
        "import polars as pl"
      ],
      "metadata": {
        "trusted": true,
        "execution": {
          "iopub.status.busy": "2025-03-18T20:25:07.628841Z",
          "iopub.execute_input": "2025-03-18T20:25:07.629215Z",
          "iopub.status.idle": "2025-03-18T20:25:07.635048Z",
          "shell.execute_reply.started": "2025-03-18T20:25:07.629185Z",
          "shell.execute_reply": "2025-03-18T20:25:07.633545Z"
        },
        "id": "4dOkYuAvyMnY"
      },
      "outputs": [],
      "execution_count": 1
    },
    {
      "cell_type": "code",
      "source": [
        "path_data = 'hydropower-zindi-challenge/'"
      ],
      "metadata": {
        "trusted": true,
        "execution": {
          "iopub.status.busy": "2025-03-18T20:25:08.183467Z",
          "iopub.execute_input": "2025-03-18T20:25:08.183951Z",
          "iopub.status.idle": "2025-03-18T20:25:08.189201Z",
          "shell.execute_reply.started": "2025-03-18T20:25:08.183919Z",
          "shell.execute_reply": "2025-03-18T20:25:08.187590Z"
        },
        "id": "FilGh6ugyMnY"
      },
      "outputs": [],
      "execution_count": 2
    },
    {
      "cell_type": "code",
      "source": [
        "df_data = pl.read_csv(path_data+'Data.csv')\n",
        "df_climate = pd.read_excel(path_data+'Kalam Climate Data.xlsx')\n",
        "\n",
        "df_data.shape, df_climate.shape"
      ],
      "metadata": {
        "trusted": true,
        "execution": {
          "iopub.status.busy": "2025-03-18T20:25:08.476517Z",
          "iopub.execute_input": "2025-03-18T20:25:08.476956Z",
          "iopub.status.idle": "2025-03-18T20:25:31.290144Z",
          "shell.execute_reply.started": "2025-03-18T20:25:08.476926Z",
          "shell.execute_reply": "2025-03-18T20:25:31.288717Z"
        },
        "id": "3sX4-4cXyMnZ"
      },
      "outputs": [],
      "execution_count": 3
    },
    {
      "cell_type": "code",
      "source": [
        "df_data.head()"
      ],
      "metadata": {
        "trusted": true,
        "execution": {
          "iopub.status.busy": "2025-03-18T20:25:33.732249Z",
          "iopub.execute_input": "2025-03-18T20:25:33.732772Z",
          "iopub.status.idle": "2025-03-18T20:25:33.758477Z",
          "shell.execute_reply.started": "2025-03-18T20:25:33.732742Z",
          "shell.execute_reply": "2025-03-18T20:25:33.756926Z"
        },
        "id": "MDt8COe3yMnf",
        "outputId": "fae04317-942f-4b77-e56e-ab79b6097101"
      },
      "outputs": [
        {
          "execution_count": 37,
          "output_type": "execute_result",
          "data": {
            "text/plain": "shape: (5, 10)\n┌─────────────┬────────┬─────────┬─────────────┬───┬────────┬──────────┬─────────────┬─────────────┐\n│ date_time   ┆ v_red  ┆ current ┆ power_facto ┆ … ┆ v_blue ┆ v_yellow ┆ consumer_de ┆ consumer_de │\n│ ---         ┆ ---    ┆ ---     ┆ r           ┆   ┆ ---    ┆ ---      ┆ vice_9      ┆ vice_x      │\n│ str         ┆ f64    ┆ f64     ┆ ---         ┆   ┆ str    ┆ str      ┆ ---         ┆ ---         │\n│             ┆        ┆         ┆ f64         ┆   ┆        ┆          ┆ i64         ┆ i64         │\n╞═════════════╪════════╪═════════╪═════════════╪═══╪════════╪══════════╪═════════════╪═════════════╡\n│ 2024-07-22  ┆ 137.65 ┆ 0.08    ┆ 0.72        ┆ … ┆ null   ┆ null     ┆ 0           ┆ 10          │\n│ 18:20:00    ┆        ┆         ┆             ┆   ┆        ┆          ┆             ┆             │\n│ 2024-07-22  ┆ 122.82 ┆ 0.08    ┆ 0.73        ┆ … ┆ null   ┆ null     ┆ 0           ┆ 10          │\n│ 18:25:00    ┆        ┆         ┆             ┆   ┆        ┆          ┆             ┆             │\n│ 2024-07-22  ┆ 119.7  ┆ 0.08    ┆ 0.74        ┆ … ┆ null   ┆ null     ┆ 0           ┆ 10          │\n│ 18:30:00    ┆        ┆         ┆             ┆   ┆        ┆          ┆             ┆             │\n│ 2024-07-22  ┆ 124.53 ┆ 0.08    ┆ 0.75        ┆ … ┆ null   ┆ null     ┆ 0           ┆ 10          │\n│ 18:35:00    ┆        ┆         ┆             ┆   ┆        ┆          ┆             ┆             │\n│ 2024-07-22  ┆ 134.84 ┆ 0.08    ┆ 0.74        ┆ … ┆ null   ┆ null     ┆ 0           ┆ 10          │\n│ 18:40:00    ┆        ┆         ┆             ┆   ┆        ┆          ┆             ┆             │\n└─────────────┴────────┴─────────┴─────────────┴───┴────────┴──────────┴─────────────┴─────────────┘",
            "text/html": "<div><style>\n.dataframe > thead > tr,\n.dataframe > tbody > tr {\n  text-align: right;\n  white-space: pre-wrap;\n}\n</style>\n<small>shape: (5, 10)</small><table border=\"1\" class=\"dataframe\"><thead><tr><th>date_time</th><th>v_red</th><th>current</th><th>power_factor</th><th>kwh</th><th>Source</th><th>v_blue</th><th>v_yellow</th><th>consumer_device_9</th><th>consumer_device_x</th></tr><tr><td>str</td><td>f64</td><td>f64</td><td>f64</td><td>f64</td><td>str</td><td>str</td><td>str</td><td>i64</td><td>i64</td></tr></thead><tbody><tr><td>&quot;2024-07-22 18:20:00&quot;</td><td>137.65</td><td>0.08</td><td>0.72</td><td>0.000661</td><td>&quot;consumer_device_10_data_user_1&quot;</td><td>null</td><td>null</td><td>0</td><td>10</td></tr><tr><td>&quot;2024-07-22 18:25:00&quot;</td><td>122.82</td><td>0.08</td><td>0.73</td><td>0.000598</td><td>&quot;consumer_device_10_data_user_1&quot;</td><td>null</td><td>null</td><td>0</td><td>10</td></tr><tr><td>&quot;2024-07-22 18:30:00&quot;</td><td>119.7</td><td>0.08</td><td>0.74</td><td>0.000591</td><td>&quot;consumer_device_10_data_user_1&quot;</td><td>null</td><td>null</td><td>0</td><td>10</td></tr><tr><td>&quot;2024-07-22 18:35:00&quot;</td><td>124.53</td><td>0.08</td><td>0.75</td><td>0.000623</td><td>&quot;consumer_device_10_data_user_1&quot;</td><td>null</td><td>null</td><td>0</td><td>10</td></tr><tr><td>&quot;2024-07-22 18:40:00&quot;</td><td>134.84</td><td>0.08</td><td>0.74</td><td>0.000665</td><td>&quot;consumer_device_10_data_user_1&quot;</td><td>null</td><td>null</td><td>0</td><td>10</td></tr></tbody></table></div>"
          },
          "metadata": {}
        }
      ],
      "execution_count": null
    },
    {
      "cell_type": "markdown",
      "source": [
        "## Preprocess energy data"
      ],
      "metadata": {
        "id": "Gw61Ps8q2tuC"
      }
    },
    {
      "cell_type": "code",
      "source": [
        "## cast numerical variables\n",
        "df_data = df_data.with_columns([pl.col(\"v_blue\").cast(pl.Float64),\n",
        "                                pl.col(\"v_yellow\").cast(pl.Float64)])\n",
        "\n",
        "## Convert the 'date_time' column to a Polars Datetime type\n",
        "df_data = df_data.with_columns(pl.col(\"date_time\").str.strptime(pl.Datetime, \"%Y-%m-%d %H:%M:%S\").alias(\"date_time\"))\n",
        "## Extract derived date, hour, dayifweek\n",
        "df_data = df_data.with_columns(\n",
        "    pl.col(\"date_time\").dt.date().alias(\"date\"),\n",
        "    pl.col(\"date_time\").dt.hour().alias(\"hour\"),\n",
        "    pl.col(\"date_time\").dt.weekday().alias(\"dayofweek\")\n",
        ")\n",
        "## is weekend\n",
        "df_data = df_data.with_columns(\n",
        "    pl.col(\"dayofweek\").is_in([5, 6]).cast(pl.Int8).alias(\"is_weekend\")\n",
        ")\n",
        "\n",
        "## dividing user and devices\n",
        "df_data = df_data.with_columns(\n",
        "    pl.col(\"Source\").alias('source_original'),\n",
        "    pl.col(\"Source\").str.split(\"_data_user_\").list.to_struct(fields=[\"consumer_device\", \"data_user\"])\n",
        ").unnest(\"Source\")"
      ],
      "metadata": {
        "trusted": true,
        "execution": {
          "iopub.status.busy": "2025-03-18T20:25:36.902815Z",
          "iopub.execute_input": "2025-03-18T20:25:36.903215Z",
          "iopub.status.idle": "2025-03-18T20:25:46.981284Z",
          "shell.execute_reply.started": "2025-03-18T20:25:36.903187Z",
          "shell.execute_reply": "2025-03-18T20:25:46.980033Z"
        },
        "id": "xp9WqdfOyMnf"
      },
      "outputs": [],
      "execution_count": 4
    },
    {
      "cell_type": "code",
      "source": [
        "## aggregation of energy\n",
        "df_daily_energy = df_data.group_by(['source_original', 'date']).agg(\n",
        "    pl.col('kwh').sum()\n",
        ")\n",
        "\n",
        "## aggregationf of other energy related columns\n",
        "df_data_agg = df_data.group_by(['source_original', 'date']).agg(\n",
        "    [\n",
        "        pl.col(\"v_red\").mean().alias(\"v_red_mean\"),\n",
        "        pl.col(\"v_red\").std().alias(\"v_red_std\"),\n",
        "        pl.col(\"v_red\").median().alias(\"v_red_median\"),\n",
        "\n",
        "        pl.col(\"v_blue\").mean().alias(\"v_blue_mean\"),\n",
        "        pl.col(\"v_blue\").std().alias(\"v_blue_std\"),\n",
        "        pl.col(\"v_blue\").median().alias(\"v_blue_median\"),\n",
        "\n",
        "        pl.col(\"v_yellow\").mean().alias(\"v_yellow_mean\"),\n",
        "        pl.col(\"v_yellow\").std().alias(\"v_yellow_std\"),\n",
        "        pl.col(\"v_yellow\").median().alias(\"v_yellow_median\"),\n",
        "\n",
        "        pl.col(\"current\").mean().alias(\"current_mean\"),\n",
        "        pl.col(\"current\").std().alias(\"current_std\"),\n",
        "        pl.col(\"current\").median().alias(\"current_median\"),\n",
        "\n",
        "        pl.col(\"power_factor\").mean().alias(\"power_factor_mean\"),\n",
        "        pl.col(\"power_factor\").std().alias(\"power_factor_std\"),\n",
        "        pl.col(\"power_factor\").min().alias(\"power_factor_median\"),\n",
        "    ]\n",
        ")\n",
        "\n",
        "## merge aggegated enery and other related columns in one pandas df\n",
        "merged_df = df_data_agg.join(df_daily_energy, on=['source_original', 'date'], how=\"inner\").to_pandas()\n",
        "merged_df.shape"
      ],
      "metadata": {
        "trusted": true,
        "execution": {
          "iopub.status.busy": "2025-03-18T20:25:46.990815Z",
          "iopub.execute_input": "2025-03-18T20:25:46.991186Z",
          "iopub.status.idle": "2025-03-18T20:26:10.257235Z",
          "shell.execute_reply.started": "2025-03-18T20:25:46.991156Z",
          "shell.execute_reply": "2025-03-18T20:26:10.255861Z"
        },
        "id": "HtvR4fHQyMng"
      },
      "outputs": [],
      "execution_count": 5
    },
    {
      "cell_type": "markdown",
      "source": [
        "## Preprocess climate data"
      ],
      "metadata": {
        "id": "VtZ4VOxi282v"
      }
    },
    {
      "cell_type": "code",
      "source": [
        "## preprocess climate data\n",
        "df_climate['date'] = df_climate['Date Time'].dt.date\n",
        "df_climate.columns = ['date_time', 'temp', 'dew_temp', 'u_wind', 'v_wind', 'total_precip', 'snowfall', 'snow_cover', 'date']\n",
        "\n",
        "df_climate_agg = df_climate.groupby(['date']).agg({\n",
        "    'temp': ['mean', 'median', 'std'],\n",
        "    'dew_temp': ['mean', 'median', 'std'],\n",
        "    'u_wind': ['mean', 'median', 'std'],\n",
        "    'v_wind': ['mean', 'median', 'std'],\n",
        "    'total_precip': ['mean', 'median', 'std', 'sum'],\n",
        "    'snowfall': ['mean', 'median', 'std', 'sum'],\n",
        "    'snow_cover': ['mean', 'median', 'std'],\n",
        "}).reset_index()\n",
        "df_tmp = pd.DataFrame(np.vstack(df_climate_agg.columns.values))\n",
        "df_tmp['columns_name'] = df_tmp[0] + '_' + df_tmp[1]\n",
        "df_climate_agg.columns = list(df_tmp[0] + '_' + df_tmp[1].values)\n",
        "df_climate_agg['date_'] = pd.to_datetime(df_climate_agg['date_'])\n",
        "df_climate_agg.shape"
      ],
      "metadata": {
        "id": "VH8CLvGd3AEF"
      },
      "execution_count": 6,
      "outputs": []
    }
  ]
}